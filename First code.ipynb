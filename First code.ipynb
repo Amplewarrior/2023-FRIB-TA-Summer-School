{
 "cells": [
  {
   "attachments": {},
   "cell_type": "markdown",
   "id": "7980fb84",
   "metadata": {},
   "source": [
    "# My first code space experience\n",
    "\n",
    "Hello friends! Welcome to the amazing world of code space. Try to run the cells bellow "
   ]
  },
  {
   "cell_type": "code",
   "execution_count": 3,
   "id": "1dee2349",
   "metadata": {},
   "outputs": [
    {
     "ename": "ModuleNotFoundError",
     "evalue": "No module named 'matplotlib'",
     "output_type": "error",
     "traceback": [
      "\u001b[1;31m---------------------------------------------------------------------------\u001b[0m",
      "\u001b[1;31mModuleNotFoundError\u001b[0m                       Traceback (most recent call last)",
      "Cell \u001b[1;32mIn[3], line 1\u001b[0m\n\u001b[1;32m----> 1\u001b[0m \u001b[39mimport\u001b[39;00m \u001b[39mmatplotlib\u001b[39;00m\u001b[39m.\u001b[39;00m\u001b[39mpyplot\u001b[39;00m \u001b[39mas\u001b[39;00m \u001b[39mplt\u001b[39;00m\n\u001b[0;32m      2\u001b[0m \u001b[39mimport\u001b[39;00m \u001b[39mdatetime\u001b[39;00m\n\u001b[0;32m      4\u001b[0m \u001b[39m# Generate dummy data for the number of users\u001b[39;00m\n",
      "\u001b[1;31mModuleNotFoundError\u001b[0m: No module named 'matplotlib'"
     ]
    }
   ],
   "source": [
    "import matplotlib.pyplot as plt\n",
    "import datetime\n",
    "## wait this isn't codespace\n",
    "# Generate dummy data for the number of users\n",
    "start_time = datetime.datetime(2023, 6, 26, 8, 30)  # Starting time\n",
    "end_time = datetime.datetime(2023, 6, 26, 9, 0)  # Ending time\n",
    "time_delta = datetime.timedelta(minutes=5)  # Time interval between data points\n",
    "\n",
    "# Initialize lists to store time and number of users\n",
    "times = []\n",
    "users = []\n",
    "\n",
    "current_time = start_time\n",
    "while current_time < end_time:\n",
    "    times.append(current_time)\n",
    "    # Generate random number of users within a range\n",
    "    num_users = 50 + 30 * (current_time.minute - 30)\n",
    "    users.append(num_users)\n",
    "    current_time += time_delta\n",
    "\n",
    "# Plot the data\n",
    "plt.scatter(times, users)\n",
    "plt.title(\"Number of Users in Code Space\")\n",
    "plt.xlabel(\"Time\")\n",
    "plt.ylabel(\"Number of Users\")\n",
    "plt.xticks(rotation=45)\n",
    "plt.show()\n"
   ]
  }
 ],
 "metadata": {
  "kernelspec": {
   "display_name": "Python 3 (ipykernel)",
   "language": "python",
   "name": "python3"
  },
  "language_info": {
   "codemirror_mode": {
    "name": "ipython",
    "version": 3
   },
   "file_extension": ".py",
   "mimetype": "text/x-python",
   "name": "python",
   "nbconvert_exporter": "python",
   "pygments_lexer": "ipython3",
   "version": "3.11.4"
  }
 },
 "nbformat": 4,
 "nbformat_minor": 5
}
